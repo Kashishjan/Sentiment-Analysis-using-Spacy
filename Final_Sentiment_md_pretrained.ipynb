{
 "cells": [
  {
   "cell_type": "markdown",
   "id": "00196903",
   "metadata": {},
   "source": [
    "##### Notebook created in virtual environemt with spacy version 2.3.5"
   ]
  },
  {
   "cell_type": "markdown",
   "id": "a5dfa608",
   "metadata": {},
   "source": [
    "## Importing Libraries and Reading Data"
   ]
  },
  {
   "cell_type": "code",
   "execution_count": 128,
   "id": "3dbf81f2",
   "metadata": {},
   "outputs": [],
   "source": [
    "import numpy as np\n",
    "import pandas as pd\n",
    "import string\n",
    "import math\n",
    "import matplotlib.pyplot as plt\n",
    "import sklearn\n",
    "from sklearn.model_selection import train_test_split\n",
    "import spacy\n",
    "from scripts_spacy import train_model\n",
    "from sklearn import metrics\n",
    "import srsly"
   ]
  },
  {
   "cell_type": "code",
   "execution_count": 3,
   "id": "4cb713c0",
   "metadata": {},
   "outputs": [],
   "source": [
    "# Importing dataset\n",
    "df=pd.read_csv('/home/hp/Desktop/data.csv')"
   ]
  },
  {
   "cell_type": "markdown",
   "id": "e03962df",
   "metadata": {},
   "source": [
    "## Analysis of Data"
   ]
  },
  {
   "cell_type": "code",
   "execution_count": 4,
   "id": "f3261e35",
   "metadata": {},
   "outputs": [
    {
     "name": "stdout",
     "output_type": "stream",
     "text": [
      "Shape of data=> (18899, 3)\n"
     ]
    }
   ],
   "source": [
    "print(\"Shape of data => \",df.shape)"
   ]
  },
  {
   "cell_type": "code",
   "execution_count": 5,
   "id": "39b4a977",
   "metadata": {},
   "outputs": [
    {
     "data": {
      "text/plain": [
       "textID       0\n",
       "text         1\n",
       "sentiment    0\n",
       "dtype: int64"
      ]
     },
     "execution_count": 5,
     "metadata": {},
     "output_type": "execute_result"
    }
   ],
   "source": [
    "#Missing Data\n",
    "df.isnull().sum()"
   ]
  },
  {
   "cell_type": "code",
   "execution_count": 6,
   "id": "6c8993af",
   "metadata": {},
   "outputs": [
    {
     "data": {
      "text/plain": [
       "textID       0\n",
       "text         0\n",
       "sentiment    0\n",
       "dtype: int64"
      ]
     },
     "execution_count": 6,
     "metadata": {},
     "output_type": "execute_result"
    }
   ],
   "source": [
    "#Dropping missing values\n",
    "df.dropna(inplace=True)\n",
    "df.isnull().sum()"
   ]
  },
  {
   "cell_type": "code",
   "execution_count": 7,
   "id": "eb08df3c",
   "metadata": {},
   "outputs": [
    {
     "data": {
      "text/plain": [
       "0.5882633082865911"
      ]
     },
     "execution_count": 7,
     "metadata": {},
     "output_type": "execute_result"
    }
   ],
   "source": [
    "df.sentiment.value_counts(normalize=True)[0]"
   ]
  },
  {
   "cell_type": "code",
   "execution_count": 8,
   "id": "0b179518",
   "metadata": {},
   "outputs": [
    {
     "data": {
      "text/plain": [
       "0.4117366917134088"
      ]
     },
     "execution_count": 8,
     "metadata": {},
     "output_type": "execute_result"
    }
   ],
   "source": [
    "df.sentiment.value_counts(normalize=True)[1]"
   ]
  },
  {
   "cell_type": "markdown",
   "id": "7412b882",
   "metadata": {},
   "source": [
    "## Graph showing percentage of negative and neutral in data"
   ]
  },
  {
   "cell_type": "code",
   "execution_count": 9,
   "id": "abe1c84e",
   "metadata": {},
   "outputs": [
    {
     "data": {
      "image/png": "[encoded data removed]",
      "text/plain": [
       "<Figure size 432x288 with 1 Axes>"
      ]
     },
     "metadata": {
      "needs_background": "light"
     },
     "output_type": "display_data"
    }
   ],
   "source": [
    "fig,axis=plt.subplots()\n",
    "axis.bar([\"negative\",\"neutral\"],[0.4117366917134088,0.5882633082865911],width=0.5,color=[\"blue\",\"green\"])\n",
    "axis.set_title (\"Graph showing sentiment analysis\")\n",
    "axis.set_ylabel(\"Frequency\")\n",
    "plt.show()"
   ]
  },
  {
   "cell_type": "markdown",
   "id": "586bd716",
   "metadata": {},
   "source": [
    "## Data snippet"
   ]
  },
  {
   "cell_type": "code",
   "execution_count": 10,
   "id": "b429744f",
   "metadata": {},
   "outputs": [
    {
     "name": "stdout",
     "output_type": "stream",
     "text": [
      "Text 1:\n",
      "  unfortunately, I will miss Girl Bros. Radio tonight. Will be in the midst of an all night writing session\n",
      "Text 2:\n",
      " there`s no point in bein on here if no one else in on\n",
      "Text 3:\n",
      " going to jack`s tribute match today\n",
      "Text 4:\n",
      " possibly a carpenters number,topical.\n",
      "Text 5:\n",
      " Wowzer! It`s very windy. Not good for my allergies!!\n",
      "Text 6:\n",
      " my mom wants to lay. We`ll be there later. Probably a little after 10. And  I`m sorry you`re sick\n",
      "Text 7:\n",
      " Sometimes knowledge is not a good thing.    http://digg.com/d1sPp7\n",
      "Text 8:\n",
      " - me and my mom`s cars were broken into.  I feel violated.\n",
      "Text 9:\n",
      " we are going all out!\n",
      "Text 10:\n",
      " _m do it up\n"
     ]
    }
   ],
   "source": [
    "for index,text in enumerate(df['text'][30:40]):\n",
    "  print('Text %d:\\n'%(index+1),text)"
   ]
  },
  {
   "cell_type": "markdown",
   "id": "36202b44",
   "metadata": {},
   "source": [
    "## Splitting Data into Train, Test and Val in 8:1:1 ratio"
   ]
  },
  {
   "cell_type": "code",
   "execution_count": 13,
   "id": "94f10c9f",
   "metadata": {},
   "outputs": [],
   "source": [
    "df.replace(to_replace=[\"neutral\",\"negative\"],value=[0,1],inplace=True)"
   ]
  },
  {
   "cell_type": "code",
   "execution_count": 14,
   "id": "323029c8",
   "metadata": {},
   "outputs": [],
   "source": [
    "X = df[\"text\"]\n",
    "Y = df[\"sentiment\"]\n",
    "\n",
    "x, x_test, y, y_test = train_test_split(X,Y, test_size=0.1, random_state=42)\n",
    "x_train, x_val, y_train, y_val = train_test_split(x,y, test_size=1/9, random_state=42)"
   ]
  },
  {
   "cell_type": "code",
   "execution_count": 15,
   "id": "ae05b6e5",
   "metadata": {},
   "outputs": [
    {
     "data": {
      "text/plain": [
       "15118"
      ]
     },
     "execution_count": 15,
     "metadata": {},
     "output_type": "execute_result"
    }
   ],
   "source": [
    "len(x_train)"
   ]
  },
  {
   "cell_type": "code",
   "execution_count": 16,
   "id": "0c29ea2a",
   "metadata": {},
   "outputs": [
    {
     "data": {
      "text/plain": [
       "1890"
      ]
     },
     "execution_count": 16,
     "metadata": {},
     "output_type": "execute_result"
    }
   ],
   "source": [
    "len(x_test)"
   ]
  },
  {
   "cell_type": "code",
   "execution_count": 17,
   "id": "e570a36d",
   "metadata": {},
   "outputs": [
    {
     "data": {
      "text/plain": [
       "1890"
      ]
     },
     "execution_count": 17,
     "metadata": {},
     "output_type": "execute_result"
    }
   ],
   "source": [
    "len(x_val)"
   ]
  },
  {
   "cell_type": "markdown",
   "id": "5fce4a13",
   "metadata": {},
   "source": [
    "## Training the model"
   ]
  },
  {
   "cell_type": "markdown",
   "id": "3527b1b7",
   "metadata": {},
   "source": [
    "##### Dowloaded en_core_web_md model"
   ]
  },
  {
   "cell_type": "code",
   "execution_count": 20,
   "id": "02d34b9a",
   "metadata": {},
   "outputs": [],
   "source": [
    "model =\"en_core_web_md\"\n",
    "train_path=\"train.jsonl\"\n",
    "eval_path=\"val.jsonl\"\n",
    "n_iter=10\n",
    "output=\"train_model_pre_vectorslg\"\n",
    "tok2vec=\"tok2vec_cd8_model289.bin\""
   ]
  },
  {
   "cell_type": "code",
   "execution_count": 21,
   "id": "e17e4b31",
   "metadata": {},
   "outputs": [
    {
     "name": "stdout",
     "output_type": "stream",
     "text": [
      "\u001b[2Kading 'en_core_web_md'..."
     ]
    },
    {
     "name": "stderr",
     "output_type": "stream",
     "text": [
      "  0%|          | 2/15118 [00:00<15:57, 15.78it/s]"
     ]
    },
    {
     "name": "stdout",
     "output_type": "stream",
     "text": [
      "\u001b[38;5;2m✔ Loaded model 'en_core_web_md'\u001b[0m\n",
      "#    L          F       \n"
     ]
    },
    {
     "name": "stderr",
     "output_type": "stream",
     "text": [
      "  0%|          | 0/15118 [00:00<?, ?it/s]            "
     ]
    },
    {
     "name": "stdout",
     "output_type": "stream",
     "text": [
      "1    371.07     0.825   \n"
     ]
    },
    {
     "name": "stderr",
     "output_type": "stream",
     "text": [
      "  0%|          | 0/15118 [00:00<?, ?it/s]            "
     ]
    },
    {
     "name": "stdout",
     "output_type": "stream",
     "text": [
      "2    0.57       0.847   \n"
     ]
    },
    {
     "name": "stderr",
     "output_type": "stream",
     "text": [
      "  0%|          | 0/15118 [00:00<?, ?it/s]            "
     ]
    },
    {
     "name": "stdout",
     "output_type": "stream",
     "text": [
      "3    0.50       0.854   \n"
     ]
    },
    {
     "name": "stderr",
     "output_type": "stream",
     "text": [
      "  0%|          | 0/15118 [00:00<?, ?it/s]            "
     ]
    },
    {
     "name": "stdout",
     "output_type": "stream",
     "text": [
      "4    0.44       0.859   \n"
     ]
    },
    {
     "name": "stderr",
     "output_type": "stream",
     "text": [
      "  0%|          | 0/15118 [00:00<?, ?it/s]            "
     ]
    },
    {
     "name": "stdout",
     "output_type": "stream",
     "text": [
      "5    0.39       0.863   \n"
     ]
    },
    {
     "name": "stderr",
     "output_type": "stream",
     "text": [
      "  0%|          | 0/15118 [00:00<?, ?it/s]            "
     ]
    },
    {
     "name": "stdout",
     "output_type": "stream",
     "text": [
      "6    0.34       0.866   \n"
     ]
    },
    {
     "name": "stderr",
     "output_type": "stream",
     "text": [
      "  0%|          | 0/15118 [00:00<?, ?it/s]              "
     ]
    },
    {
     "name": "stdout",
     "output_type": "stream",
     "text": [
      "7    0.29       0.861   \n"
     ]
    },
    {
     "name": "stderr",
     "output_type": "stream",
     "text": [
      "  0%|          | 0/15118 [00:00<?, ?it/s]            "
     ]
    },
    {
     "name": "stdout",
     "output_type": "stream",
     "text": [
      "8    0.26       0.859   \n"
     ]
    },
    {
     "name": "stderr",
     "output_type": "stream",
     "text": [
      "  0%|          | 0/15118 [00:00<?, ?it/s]            "
     ]
    },
    {
     "name": "stdout",
     "output_type": "stream",
     "text": [
      "9    0.22       0.856   \n"
     ]
    },
    {
     "name": "stderr",
     "output_type": "stream",
     "text": [
      "                                                     \r"
     ]
    },
    {
     "name": "stdout",
     "output_type": "stream",
     "text": [
      "10   0.19       0.856   \n",
      "Best F-Score: 0.866\n",
      "\u001b[2Kving model...\u001b[38;5;2m✔ Saved model\u001b[0m\n",
      "train_model_pre_vectorslg\n"
     ]
    }
   ],
   "source": [
    "train_model(model,train_path,eval_path,n_iter=n_iter,output=output,tok2vec=tok2vec)"
   ]
  },
  {
   "cell_type": "markdown",
   "id": "12e019d9",
   "metadata": {},
   "source": [
    "Model Trained with best F1_Score of 0.866 and saved"
   ]
  },
  {
   "cell_type": "markdown",
   "id": "55ab209f",
   "metadata": {},
   "source": [
    "## Loading Model and finding F1_Score using evaluate_model from Scripts_spacy"
   ]
  },
  {
   "cell_type": "code",
   "execution_count": 171,
   "id": "28df553a",
   "metadata": {},
   "outputs": [
    {
     "name": "stdout",
     "output_type": "stream",
     "text": [
      "\u001b[2Kading model 'train_model_pre_vectorslg'...\n",
      "F-Score   0.847\n",
      "\n"
     ]
    }
   ],
   "source": [
    "from scripts_spacy import evaluate_model\n",
    "from scripts_spacy import format_data\n",
    "evaluate_model(\"train_model_pre_vectorslg\",\"test.jsonl\")"
   ]
  },
  {
   "cell_type": "code",
   "execution_count": 63,
   "id": "76260231",
   "metadata": {},
   "outputs": [],
   "source": [
    "model=spacy.load(\"train_model_pre_vectorslg\")"
   ]
  },
  {
   "cell_type": "markdown",
   "id": "12ea39ce",
   "metadata": {},
   "source": [
    "## Displaying sample data in test_jsonl"
   ]
  },
  {
   "cell_type": "code",
   "execution_count": 48,
   "id": "5c3b4495",
   "metadata": {},
   "outputs": [],
   "source": [
    "x,y=format_data(srsly.read_jsonl(\"test.jsonl\"))"
   ]
  },
  {
   "cell_type": "code",
   "execution_count": 49,
   "id": "c60fd58a",
   "metadata": {},
   "outputs": [
    {
     "name": "stdout",
     "output_type": "stream",
     "text": [
      "('soooo over ppl telling me they went to the tonite show!!!  Ive had dreams of meeting him  I`m embarrassd of that a lil LOL', {'cats': {'NEGATIVE': True}})\n",
      "('who what?  call me', {'cats': {'NEGATIVE': False}})\n",
      "('I`ve got sunburnt knees... it`s funny now, but I bet they`ll sting later   Had a fab day though  x', {'cats': {'NEGATIVE': False}})\n",
      "('Hicks are mean!', {'cats': {'NEGATIVE': True}})\n",
      "(' -- No fair, I want a sticker but I just moved away from London', {'cats': {'NEGATIVE': True}})\n",
      "('going out to see star trek   be back in a while', {'cats': {'NEGATIVE': False}})\n",
      "('Hoping that this will just heal on it`s own because anything I put on it just makes it worse. Owww', {'cats': {'NEGATIVE': False}})\n",
      "('wants to go the the vintage paper show but no one will accompany her', {'cats': {'NEGATIVE': True}})\n",
      "('nothinbg home about to jump in the shower the streets is calling meeeeeeee   what is it 4 tonight  tell m', {'cats': {'NEGATIVE': False}})\n",
      "(\"I actually meant to type 'end of September' but I was in the middle of a conversation with someone and I cant multitask\", {'cats': {'NEGATIVE': False}})\n"
     ]
    }
   ],
   "source": [
    "for i in range(10):\n",
    "    print(x[i])"
   ]
  },
  {
   "cell_type": "code",
   "execution_count": 93,
   "id": "897611d4",
   "metadata": {},
   "outputs": [
    {
     "data": {
      "text/plain": [
       "12502    soooo over ppl telling me they went to the ton...\n",
       "11125                                   who what?  call me\n",
       "8733     I`ve got sunburnt knees... it`s funny now, but...\n",
       "7747                                       Hicks are mean!\n",
       "13103     -- No fair, I want a sticker but I just moved...\n",
       "15622      going out to see star trek   be back in a while\n",
       "7077     Hoping that this will just heal on it`s own be...\n",
       "9141     wants to go the the vintage paper show but no ...\n",
       "10813    nothinbg home about to jump in the shower the ...\n",
       "42       I actually meant to type 'end of September' bu...\n",
       "Name: text, dtype: object"
      ]
     },
     "execution_count": 93,
     "metadata": {},
     "output_type": "execute_result"
    }
   ],
   "source": [
    "x_test[0:10]"
   ]
  },
  {
   "cell_type": "code",
   "execution_count": 125,
   "id": "66446576",
   "metadata": {},
   "outputs": [
    {
     "data": {
      "text/plain": [
       "12502    1\n",
       "11125    0\n",
       "8733     0\n",
       "7747     1\n",
       "13103    1\n",
       "15622    0\n",
       "7077     0\n",
       "9141     1\n",
       "10813    0\n",
       "42       0\n",
       "Name: sentiment, dtype: int64"
      ]
     },
     "execution_count": 125,
     "metadata": {},
     "output_type": "execute_result"
    }
   ],
   "source": [
    "y_test[0:10]"
   ]
  },
  {
   "cell_type": "markdown",
   "id": "a5bad4d3",
   "metadata": {},
   "source": [
    "## Testing model prediction with random input sentence "
   ]
  },
  {
   "cell_type": "code",
   "execution_count": 103,
   "id": "90b450b8",
   "metadata": {},
   "outputs": [],
   "source": [
    "sentence=model(\"hello, how are you?\")"
   ]
  },
  {
   "cell_type": "code",
   "execution_count": 104,
   "id": "e3a73957",
   "metadata": {},
   "outputs": [
    {
     "data": {
      "text/plain": [
       "{'NEGATIVE': 0.023059643805027008}"
      ]
     },
     "execution_count": 104,
     "metadata": {},
     "output_type": "execute_result"
    }
   ],
   "source": [
    "sentence.cats"
   ]
  },
  {
   "cell_type": "markdown",
   "id": "029c3add",
   "metadata": {},
   "source": [
    "#### As the value of label is very low, it is not negative (neutral)"
   ]
  },
  {
   "cell_type": "code",
   "execution_count": 97,
   "id": "5b4f6a0a",
   "metadata": {},
   "outputs": [
    {
     "data": {
      "text/plain": [
       "['tagger', 'parser', 'ner', 'textcat']"
      ]
     },
     "execution_count": 97,
     "metadata": {},
     "output_type": "execute_result"
    }
   ],
   "source": [
    "model.pipe_names"
   ]
  },
  {
   "cell_type": "markdown",
   "id": "91b47031",
   "metadata": {},
   "source": [
    "## Predicting text sentiment of x_test data and storing in y_pred"
   ]
  },
  {
   "cell_type": "code",
   "execution_count": 123,
   "id": "31c46d48",
   "metadata": {},
   "outputs": [
    {
     "name": "stdout",
     "output_type": "stream",
     "text": [
      "[0, 0, 1, 1, 0, 0, 1, 0, 0, 0]\n"
     ]
    }
   ],
   "source": [
    "y_pred=[]\n",
    "for string in x_test:\n",
    "    doc=model(string)\n",
    "    neg_index=doc.cats\n",
    "    #print(neg_index)\n",
    "    if neg_index[\"NEGATIVE\"]>0.5:\n",
    "        y_pred.append(1)\n",
    "    else:\n",
    "        y_pred.append(0)\n",
    "        \n",
    "print(y_pred[0:10])"
   ]
  },
  {
   "cell_type": "code",
   "execution_count": 118,
   "id": "9a136b41",
   "metadata": {},
   "outputs": [
    {
     "name": "stdout",
     "output_type": "stream",
     "text": [
      "12502    1\n",
      "11125    0\n",
      "8733     0\n",
      "7747     1\n",
      "13103    1\n",
      "15622    0\n",
      "7077     0\n",
      "9141     1\n",
      "10813    0\n",
      "42       0\n",
      "Name: sentiment, dtype: int64\n"
     ]
    }
   ],
   "source": [
    "print(y_test[0:10])"
   ]
  },
  {
   "cell_type": "markdown",
   "id": "2b0b92bc",
   "metadata": {},
   "source": [
    "## Evaluating metrics like accuracy and F1_Score on TEST data"
   ]
  },
  {
   "cell_type": "code",
   "execution_count": 168,
   "id": "b9f583cf",
   "metadata": {},
   "outputs": [
    {
     "name": "stdout",
     "output_type": "stream",
     "text": [
      "Accuracy:  0.7761904761904762\n"
     ]
    }
   ],
   "source": [
    "accuracy = metrics.accuracy_score(y_test, y_pred)\n",
    "print(\"Accuracy: \",accuracy)"
   ]
  },
  {
   "cell_type": "code",
   "execution_count": 170,
   "id": "20b8b91e",
   "metadata": {},
   "outputs": [
    {
     "name": "stdout",
     "output_type": "stream",
     "text": [
      "F1_Score:  0.7327858496525584\n"
     ]
    }
   ],
   "source": [
    "f_score=metrics.f1_score(y_test,y_pred)\n",
    "print(\"F1_Score: \",f_score)"
   ]
  },
  {
   "cell_type": "markdown",
   "id": "dcb46ddd",
   "metadata": {},
   "source": [
    "## Confusion Matrix"
   ]
  },
  {
   "cell_type": "code",
   "execution_count": 116,
   "id": "eecf8046",
   "metadata": {},
   "outputs": [
    {
     "data": {
      "image/png": "[encoded data removed]",
      "text/plain": [
       "<Figure size 432x288 with 1 Axes>"
      ]
     },
     "metadata": {
      "needs_background": "light"
     },
     "output_type": "display_data"
    }
   ],
   "source": [
    "plt.clf()\n",
    "plt.imshow(cm, interpolation='nearest', cmap=plt.cm.Wistia)\n",
    "classNames = ['Positive','Negative']\n",
    "plt.title('Text Classification Confusion Matrix - Test Data')\n",
    "plt.ylabel('Predicted label')\n",
    "plt.xlabel('Actual label')\n",
    "tick_marks = np.arange(len(classNames))\n",
    "plt.xticks(tick_marks, classNames, rotation=45)\n",
    "plt.yticks(tick_marks, classNames)\n",
    "s = [['TP','FP'], ['FN', 'TN']]\n",
    "for i in range(2):\n",
    "    for j in range(2):\n",
    "        plt.text(j,i, str(s[i][j])+\" = \"+str(cm[i][j]))\n",
    "plt.show()"
   ]
  },
  {
   "cell_type": "code",
   "execution_count": 127,
   "id": "4e0bd6c6",
   "metadata": {},
   "outputs": [
    {
     "name": "stdout",
     "output_type": "stream",
     "text": [
      "              precision    recall  f1-score   support\n",
      "\n",
      "           0       0.81      0.80      0.81      1103\n",
      "           1       0.73      0.74      0.73       787\n",
      "\n",
      "    accuracy                           0.78      1890\n",
      "   macro avg       0.77      0.77      0.77      1890\n",
      "weighted avg       0.78      0.78      0.78      1890\n",
      "\n"
     ]
    }
   ],
   "source": [
    "print(metrics.classification_report(y_test, y_pred))"
   ]
  },
  {
   "cell_type": "markdown",
   "id": "02806c60",
   "metadata": {},
   "source": [
    "## Incorrectly Predicted Text"
   ]
  },
  {
   "cell_type": "code",
   "execution_count": 164,
   "id": "a5234760",
   "metadata": {},
   "outputs": [
    {
     "name": "stdout",
     "output_type": "stream",
     "text": [
      "INCORRECT TEXT PREDICTIONS ARE AS FOLLOWS: \n",
      "\n",
      "FALSE POSITIVES ARE: 216\n",
      "FALSE NEGATIVES ARE: 207\n",
      "\n"
     ]
    },
    {
     "data": {
      "text/plain": [
       "[('soooo over ppl telling me they went to the tonite show!!!  Ive had dreams of meeting him  I`m embarrassd of that a lil LOL',\n",
       "  {'cats': {'NEGATIVE': True}}),\n",
       " ('I`ve got sunburnt knees... it`s funny now, but I bet they`ll sting later   Had a fab day though  x',\n",
       "  {'cats': {'NEGATIVE': False}}),\n",
       " (' -- No fair, I want a sticker but I just moved away from London',\n",
       "  {'cats': {'NEGATIVE': True}}),\n",
       " ('Hoping that this will just heal on it`s own because anything I put on it just makes it worse. Owww',\n",
       "  {'cats': {'NEGATIVE': False}}),\n",
       " ('wants to go the the vintage paper show but no one will accompany her',\n",
       "  {'cats': {'NEGATIVE': True}}),\n",
       " ('waaa the octo drive and i can`t go for it', {'cats': {'NEGATIVE': True}}),\n",
       " ('_steph boo  I miss you! It`s been ages. Once I get Internet back I`ll try to fix ALO haha it likes to act up from time to time...',\n",
       "  {'cats': {'NEGATIVE': False}}),\n",
       " (' Awe man, that sucks. Everyone makes mistakes. I have a feeling that people can forgive you',\n",
       "  {'cats': {'NEGATIVE': False}}),\n",
       " ('i wish i could but it would cost too much to call you all the way from the UK',\n",
       "  {'cats': {'NEGATIVE': True}}),\n",
       " ('hahahah of course  they have such a nasty display picture :`)',\n",
       "  {'cats': {'NEGATIVE': True}})]"
      ]
     },
     "execution_count": 164,
     "metadata": {},
     "output_type": "execute_result"
    }
   ],
   "source": [
    "wrong_pred=[]\n",
    "for i in range(len(x_test)):\n",
    "    if (y_test[i:i+1]!=y_pred[i]).bool()==1:\n",
    "        wrong_pred.append(x[i])\n",
    "print(\"INCORRECT TEXT PREDICTIONS ARE AS FOLLOWS: \\n\")\n",
    "print(\"FALSE POSITIVES ARE: 216\")\n",
    "print(\"FALSE NEGATIVES ARE: 207\\n\")\n",
    "wrong_pred[:10]   "
   ]
  },
  {
   "cell_type": "markdown",
   "id": "27c0542f",
   "metadata": {},
   "source": [
    "## Analysis of wrong predictions"
   ]
  },
  {
   "cell_type": "code",
   "execution_count": 167,
   "id": "1c1e44ce",
   "metadata": {},
   "outputs": [
    {
     "name": "stdout",
     "output_type": "stream",
     "text": [
      "Here I am showing the negative indices of the values wrongly predicted and storing them in a list.\n"
     ]
    },
    {
     "data": {
      "text/plain": [
       "[0.02403394877910614,\n",
       " 0.8351126313209534,\n",
       " 0.39563044905662537,\n",
       " 0.8135517835617065,\n",
       " 0.03563077002763748,\n",
       " 0.4708297550678253,\n",
       " 0.6155261397361755,\n",
       " 0.7961817979812622,\n",
       " 0.1510336697101593,\n",
       " 0.308573454618454]"
      ]
     },
     "execution_count": 167,
     "metadata": {},
     "output_type": "execute_result"
    }
   ],
   "source": [
    "wrong_negative_index=[]\n",
    "for text,sentiment in wrong_pred:\n",
    "    doc=model(text)\n",
    "    wrong_negative_index.append(doc.cats[\"NEGATIVE\"])\n",
    "\n",
    "print(\"Here I am showing the negative indices of the values wrongly predicted and storing them in a list.\")\n",
    "wrong_negative_index[:10]"
   ]
  },
  {
   "cell_type": "code",
   "execution_count": 163,
   "id": "83d36d92",
   "metadata": {},
   "outputs": [
    {
     "data": {
      "image/png": "[encoded data removed]",
      "text/plain": [
       "<Figure size 432x288 with 1 Axes>"
      ]
     },
     "metadata": {
      "needs_background": "light"
     },
     "output_type": "display_data"
    }
   ],
   "source": [
    "%matplotlib inline\n",
    "\n",
    "plt.hist(wrong_negative_index,10,edgecolor=\"k\")\n",
    "plt.xlabel(\"Negative Index that are incorrectly predicted\")\n",
    "plt.ylabel(\"Frequency\")\n",
    "plt.title(\"Histogram showing distribution of incorrectly predicted negative index\")\n",
    "\n",
    "plt.show()"
   ]
  },
  {
   "cell_type": "markdown",
   "id": "2c36b0b8",
   "metadata": {},
   "source": [
    "## Inferences:\n",
    "\n",
    "#### 1. The model causes maximum error in prediction in the range of (0-0.1), (0.6-0.82)\n",
    "This means that the model is weak in determining very neutral sentences and also is poor for slightly negative sentences.\n",
    "#### 2. Among wrong predictions, the least are present in the range (0.9-1)\n",
    "Very negative sentences are predicted better by the model\n"
   ]
  },
  {
   "cell_type": "markdown",
   "id": "9c780736",
   "metadata": {},
   "source": [
    "## To enhance performance of Text Classification model:\n",
    "#### 1. Use of exhaustive stop word list\n",
    "#### 2. Removing urls, numerical values\n",
    "#### 3. Eliminating words with very low frequency\n",
    "#### 4. Lemmatizing the text\n",
    "\n",
    "Source: https://www.analyticsvidhya.com/blog/2015/10/6-practices-enhance-performance-text-classification-model/  \n",
    "Reference is too old!!"
   ]
  }
 ],
 "metadata": {
  "kernelspec": {
   "display_name": "spacy2_new2",
   "language": "python",
   "name": "spacy2_new2"
  },
  "language_info": {
   "codemirror_mode": {
    "name": "ipython",
    "version": 3
   },
   "file_extension": ".py",
   "mimetype": "text/x-python",
   "name": "python",
   "nbconvert_exporter": "python",
   "pygments_lexer": "ipython3",
   "version": "3.9.4"
  }
 },
 "nbformat": 4,
 "nbformat_minor": 5
}
